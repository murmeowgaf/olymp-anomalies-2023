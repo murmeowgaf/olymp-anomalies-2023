# Olympiad Anomalies 2023
# Statistical Tests Template

import pandas as pd
import numpy as np
from scipy.stats import chi2_contingency, fisher_exact, mannwhitneyu
import matplotlib.pyplot as plt
import seaborn as sns

# Load aggregated counts
# Expected schema: task_id,grade,category,score,mo_count,rest_count
df = pd.read_csv("data/bins_mo_vs_rest_agg.csv")

df.head()

def chi_square_test(task_id):
    sub = df[df['task_id'] == task_id]
    table = np.vstack([sub['mo_count'].values, sub['rest_count'].values])
    chi2, p, dof, expected = chi2_contingency(table)
    return {"task": task_id, "chi2": chi2, "df": dof, "p_value": p}

chi_square_test("T9.4")

def fisher_tail_test(task_id):
    sub = df[df['task_id'] == task_id]
    max_score = sub['score'].max()
    tail = sub[sub['score'] >= max_score - 1][['mo_count','rest_count']].sum()
    non  = sub[sub['score'] < max_score - 1][['mo_count','rest_count']].sum()

    table = [[int(tail.mo_count), int(tail.rest_count)],
             [int(non.mo_count),  int(non.rest_count)]]
    odds, p = fisher_exact(table, alternative="greater")
    return {"task": task_id, "odds_ratio": odds, "p_value": p}

fisher_tail_test("T9.4")

def mann_whitney_test(task_id):
    sub = df[df['task_id'] == task_id]
    # Expand to individual scores
    mo_scores = np.repeat(sub['score'].values, sub['mo_count'].values)
    rest_scores = np.repeat(sub['score'].values, sub['rest_count'].values)
    u, p = mannwhitneyu(mo_scores, rest_scores, alternative="greater")
    return {"task": task_id, "U": u, "p_value": p}

mann_whitney_test("T9.4")


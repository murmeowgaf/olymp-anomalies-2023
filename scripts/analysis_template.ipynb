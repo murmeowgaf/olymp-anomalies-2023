# Olympiad Anomalies 2023
# Statistical Tests Template

import pandas as pd
import numpy as np
from scipy.stats import chi2_contingency, fisher_exact, mannwhitneyu
import matplotlib.pyplot as plt
import seaborn as sns

# Load aggregated counts
# Expected schema: task_id,grade,category,score,mo_count,rest_count
df = pd.read_csv("data/bins_mo_vs_rest_agg.csv")

df.head()
